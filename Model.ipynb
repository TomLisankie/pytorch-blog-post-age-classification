{
 "cells": [
  {
   "cell_type": "markdown",
   "metadata": {},
   "source": [
    "## Preprocess Data"
   ]
  },
  {
   "cell_type": "code",
   "execution_count": 21,
   "metadata": {},
   "outputs": [
    {
     "data": {
      "text/plain": [
       "<torch._C.Generator at 0x107271f70>"
      ]
     },
     "execution_count": 21,
     "metadata": {},
     "output_type": "execute_result"
    }
   ],
   "source": [
    "import torch\n",
    "import torch.nn as nn\n",
    "import torch.nn.functional as F\n",
    "import torch.optim as optim\n",
    "from torch.utils import data\n",
    "import json\n",
    "\n",
    "torch.manual_seed(22)"
   ]
  },
  {
   "cell_type": "code",
   "execution_count": 22,
   "metadata": {},
   "outputs": [],
   "source": [
    "class BlogPostDataset(data.Dataset):\n",
    "    def __init__(self, data_root_path, json_file_name):\n",
    "        \"\"\"\n",
    "        Args:\n",
    "            data_root_path (string): directory where all the data files exist\n",
    "            json_file_name (sring): name of the specific JSON file to be represented by this class\n",
    "        \"\"\"\n",
    "        self.data_root_path = data_root_path\n",
    "        with open(self.data_root_path + json_file_name) as r:\n",
    "            self.json_data = json.load(r)\n",
    "    \n",
    "    def __len__(self):\n",
    "        return len(self.json_data)\n",
    "    \n",
    "    def __getitem__(self, idx):\n",
    "        return self.json_data[idx]"
   ]
  },
  {
   "cell_type": "code",
   "execution_count": 23,
   "metadata": {},
   "outputs": [],
   "source": [
    "data_dir = \"data/blogs/json-data/\"\n",
    "train_file_name = \"train.json\"\n",
    "test_file_name = \"test.json\"\n",
    "\n",
    "training_set = BlogPostDataset(data_dir, train_file_name)"
   ]
  },
  {
   "cell_type": "code",
   "execution_count": 24,
   "metadata": {},
   "outputs": [],
   "source": [
    "# Map each word to a unique int value\n",
    "word_to_int = {}\n",
    "for instance in training_set:\n",
    "    for word in instance[\"post\"].split(\" \"):\n",
    "        if word not in word_to_int:\n",
    "            word_to_int[word] = len(word_to_int)"
   ]
  },
  {
   "cell_type": "code",
   "execution_count": 25,
   "metadata": {},
   "outputs": [
    {
     "name": "stdout",
     "output_type": "stream",
     "text": [
      "878109\n"
     ]
    }
   ],
   "source": [
    "print(word_to_int[\"Kulkarni\"])"
   ]
  },
  {
   "cell_type": "markdown",
   "metadata": {},
   "source": [
    "## Word Embeddings"
   ]
  },
  {
   "cell_type": "code",
   "execution_count": 28,
   "metadata": {},
   "outputs": [
    {
     "name": "stdout",
     "output_type": "stream",
     "text": [
      "tensor([[-1.6563, -0.8292,  0.3843, -1.1768, -0.2160,  1.0301, -1.1762,\n",
      "          1.7117, -0.0945, -0.5375,  1.5506,  0.9510,  0.6132, -0.3007,\n",
      "          0.5378,  2.3545, -1.8604, -1.1958, -0.5106,  0.6839,  0.3718,\n",
      "         -0.6796,  0.7938,  1.3786,  1.5075, -0.1230,  0.0310,  1.6010,\n",
      "          0.6027, -1.7493,  1.6844, -0.3365]])\n"
     ]
    }
   ],
   "source": [
    "embeddings = nn.Embedding(len(word_to_int.keys()), 32)\n",
    "lookup_tensor = torch.tensor([word_to_int[\"yay\"]], dtype = torch.long)\n",
    "embed = embeddings(lookup_tensor)\n",
    "print(embed)"
   ]
  },
  {
   "cell_type": "markdown",
   "metadata": {},
   "source": [
    "## First Model"
   ]
  },
  {
   "cell_type": "code",
   "execution_count": null,
   "metadata": {},
   "outputs": [],
   "source": [
    "class BasicLSTMAgeClassifier(nn.Module):\n",
    "    def __init__(self, embedding_dim, vocab_size, hidden_dim, age_groups_count):\n",
    "        super(BasicLSTMAgeClassifier, self).__init__()\n",
    "        self.hidden_dim = hidden_dim\n",
    "        \n",
    "        self.word_embeddings = nn.Embedding(vocab_size, embedding_dim)\n",
    "        \n",
    "        # This LSTM takes word embeddings as inputs and ouputs hidden states with\n",
    "        # dimensionality hidden_dim\n",
    "        self.lstm = nn.LSTM(embedding_dim, hidden_dim)\n",
    "        \n",
    "        self.hidden2group = nn.Linear(hidden_dim, age_groups_count)\n",
    "        self.hidden = self.init_hidden()\n",
    "    \n",
    "    def init_hidden():\n",
    "        # Since there is no hidden state yet at the beginning, we start off with a zero-tensor\n",
    "        # for the state\n",
    "        # Semantics of the axes are (num_layers, batch_size, hidden_dim)\n",
    "        num_layers = 1\n",
    "        batch_size = 50\n",
    "        return (torch.zeros(num_layers, batch_size, self.hidden_dim),\n",
    "                torch.zeros(num_layers, batch_size, self.hidden_dim))\n",
    "    \n",
    "    def forward(self, sentence):\n",
    "        embeds = self.word_embeddings(sentence)\n",
    "        lstm_out, self.hidden = self.lstm(embeds.view(len(sentence), 1, -1), self.hidden)\n",
    "        group_space = self.hidden2group(lstm_out.view(len(sentence), -1))\n",
    "        group_scores = F.log_softmax(group_space, dim = 1)\n",
    "        return group_scores\n",
    "        \n",
    "        \n",
    "        \n",
    "        \n",
    "        \n",
    "        \n",
    "        \n",
    "        \n",
    "        "
   ]
  }
 ],
 "metadata": {
  "kernelspec": {
   "display_name": "Python 3",
   "language": "python",
   "name": "python3"
  },
  "language_info": {
   "codemirror_mode": {
    "name": "ipython",
    "version": 3
   },
   "file_extension": ".py",
   "mimetype": "text/x-python",
   "name": "python",
   "nbconvert_exporter": "python",
   "pygments_lexer": "ipython3",
   "version": "3.6.5"
  }
 },
 "nbformat": 4,
 "nbformat_minor": 2
}
