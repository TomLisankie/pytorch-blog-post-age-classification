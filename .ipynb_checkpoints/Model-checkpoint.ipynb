{
 "cells": [
  {
   "cell_type": "markdown",
   "metadata": {},
   "source": [
    "## Preprocess Data"
   ]
  },
  {
   "cell_type": "code",
   "execution_count": null,
   "metadata": {},
   "outputs": [],
   "source": [
    "import torch\n",
    "import json\n",
    "\n",
    "class BlogPostDataset(torch.utils.data.Dataset):\n",
    "    def __init__(self, data_root_path, json_file_name):\n",
    "        \"\"\"\n",
    "        Args:\n",
    "            data_root_path (string): directory where all the data files exist\n",
    "            json_file_name (sring): name of the specific JSON file to be represented by this class\n",
    "        \"\"\"\n",
    "        self.data_root_path = data_root_path\n",
    "        with open(self.data_root_path + json_file_name) as r:\n",
    "            self.json_data = json.load(r)\n",
    "    \n",
    "    def __len__(self):\n",
    "        return len(self.json_data)\n",
    "    \n",
    "    def __getitem__(self, idx):\n",
    "        return self.json_data[idx]"
   ]
  }
 ],
 "metadata": {
  "kernelspec": {
   "display_name": "Python 3",
   "language": "python",
   "name": "python3"
  },
  "language_info": {
   "codemirror_mode": {
    "name": "ipython",
    "version": 3
   },
   "file_extension": ".py",
   "mimetype": "text/x-python",
   "name": "python",
   "nbconvert_exporter": "python",
   "pygments_lexer": "ipython3",
   "version": "3.6.5"
  }
 },
 "nbformat": 4,
 "nbformat_minor": 2
}
