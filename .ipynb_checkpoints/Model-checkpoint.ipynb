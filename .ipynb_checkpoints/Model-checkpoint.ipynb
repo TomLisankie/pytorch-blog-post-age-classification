{
 "cells": [
  {
   "cell_type": "markdown",
   "metadata": {},
   "source": [
    "## Preprocess Data"
   ]
  },
  {
   "cell_type": "code",
   "execution_count": 4,
   "metadata": {},
   "outputs": [],
   "source": [
    "import torch\n",
    "from torch.utils import data\n",
    "import json\n",
    "\n",
    "class BlogPostDataset(data.Dataset):\n",
    "    def __init__(self, data_root_path, json_file_name):\n",
    "        \"\"\"\n",
    "        Args:\n",
    "            data_root_path (string): directory where all the data files exist\n",
    "            json_file_name (sring): name of the specific JSON file to be represented by this class\n",
    "        \"\"\"\n",
    "        self.data_root_path = data_root_path\n",
    "        with open(self.data_root_path + json_file_name) as r:\n",
    "            self.json_data = json.load(r)\n",
    "    \n",
    "    def __len__(self):\n",
    "        return len(self.json_data)\n",
    "    \n",
    "    def __getitem__(self, idx):\n",
    "        return self.json_data[idx]"
   ]
  },
  {
   "cell_type": "code",
   "execution_count": 7,
   "metadata": {},
   "outputs": [],
   "source": [
    "data_dir = \"data/blogs/json-data/\"\n",
    "train_file_name = \"train.json\"\n",
    "test_file_name = \"test.json\"\n",
    "\n",
    "training_set = BlogPostDataset(data_dir, train_file_name)"
   ]
  },
  {
   "cell_type": "code",
   "execution_count": 8,
   "metadata": {},
   "outputs": [
    {
     "name": "stdout",
     "output_type": "stream",
     "text": [
      "2772417\n"
     ]
    }
   ],
   "source": [
    "# Map each word to a unique int value\n",
    "word_to_int = {}\n",
    "for instance in training_set:\n",
    "    for word in instance[\"post\"].split(\" \"):\n",
    "        if word not in word_to_int:\n",
    "            word_to_int[word] = len(word_to_int)\n",
    "print(len(word_to_int))"
   ]
  },
  {
   "cell_type": "code",
   "execution_count": null,
   "metadata": {},
   "outputs": [],
   "source": []
  }
 ],
 "metadata": {
  "kernelspec": {
   "display_name": "Python 3",
   "language": "python",
   "name": "python3"
  },
  "language_info": {
   "codemirror_mode": {
    "name": "ipython",
    "version": 3
   },
   "file_extension": ".py",
   "mimetype": "text/x-python",
   "name": "python",
   "nbconvert_exporter": "python",
   "pygments_lexer": "ipython3",
   "version": "3.6.5"
  }
 },
 "nbformat": 4,
 "nbformat_minor": 2
}
